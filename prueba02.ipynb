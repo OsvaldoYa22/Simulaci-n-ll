{
  "nbformat": 4,
  "nbformat_minor": 0,
  "metadata": {
    "colab": {
      "name": "prueba02.ipynb",
      "provenance": [],
      "authorship_tag": "ABX9TyNBE4EH3Ms2II6fGQujfPXR",
      "include_colab_link": true
    },
    "kernelspec": {
      "name": "python3",
      "display_name": "Python 3"
    },
    "language_info": {
      "name": "python"
    }
  },
  "cells": [
    {
      "cell_type": "markdown",
      "metadata": {
        "id": "view-in-github",
        "colab_type": "text"
      },
      "source": [
        "<a href=\"https://colab.research.google.com/github/OsvaldoYa22/Simulaci-n-ll/blob/main/prueba02.ipynb\" target=\"_parent\"><img src=\"https://colab.research.google.com/assets/colab-badge.svg\" alt=\"Open In Colab\"/></a>"
      ]
    },
    {
      "cell_type": "code",
      "execution_count": null,
      "metadata": {
        "colab": {
          "base_uri": "https://localhost:8080/"
        },
        "id": "wAxRPZ31vLGx",
        "outputId": "0e498034-f7c5-4b75-e748-f208f2c6aeab"
      },
      "outputs": [
        {
          "output_type": "stream",
          "name": "stdout",
          "text": [
            "hey\n"
          ]
        }
      ],
      "source": [
        "print(\"hey\")"
      ]
    },
    {
      "cell_type": "markdown",
      "source": [
        "nesesito estos cambios\n"
      ],
      "metadata": {
        "id": "_QXmWjDpy4Sk"
      }
    },
    {
      "cell_type": "markdown",
      "source": [
        "esto es una prueba \n",
        "\n",
        "```\n",
        "inmport pygame\n",
        "for i range :\n",
        "\n",
        "```\n",
        "\n"
      ],
      "metadata": {
        "id": "fSeQNCPuvgkF"
      }
    },
    {
      "cell_type": "markdown",
      "source": [
        "nuevos cambios al repositorio "
      ],
      "metadata": {
        "id": "d908Msw9zINk"
      }
    }
  ]
}