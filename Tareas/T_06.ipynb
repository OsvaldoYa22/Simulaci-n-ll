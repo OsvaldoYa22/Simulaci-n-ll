{
  "nbformat": 4,
  "nbformat_minor": 0,
  "metadata": {
    "colab": {
      "name": "T_06.ipynb",
      "provenance": []
    },
    "kernelspec": {
      "name": "python3",
      "display_name": "Python 3"
    },
    "language_info": {
      "name": "python"
    }
  },
  "cells": [
    {
      "cell_type": "markdown",
      "source": [
        "# Linea de espera de un servidor "
      ],
      "metadata": {
        "id": "lVFLfl_VLF6W"
      }
    },
    {
      "cell_type": "code",
      "execution_count": 1,
      "metadata": {
        "colab": {
          "base_uri": "https://localhost:8080/",
          "height": 959
        },
        "id": "7YeQAuEiLEWj",
        "outputId": "4e1d6793-e53e-4278-998e-39aa8f4bf069"
      },
      "outputs": [
        {
          "output_type": "stream",
          "name": "stdout",
          "text": [
            "     0.000 1\n",
            "                  1.738 0\n",
            "     1.908 1\n",
            "     2.120 2\n",
            "                  3.070 1\n",
            "     3.286 2\n",
            "                  3.533 1\n",
            "                  4.122 0\n",
            "     4.506 1\n",
            "                  4.842 0\n",
            "     6.667 1\n",
            "     7.120 2\n",
            "     7.951 3\n",
            "     8.152 4\n",
            "     8.508 5\n",
            "     9.214 6\n",
            "                  9.853 5\n",
            "                  9.870 4\n",
            "                 10.648 3\n",
            "                 10.888 2\n",
            "    11.323 3\n",
            "    12.616 4\n",
            "    12.640 5\n",
            "                 12.650 4\n",
            "    12.959 5\n",
            "                 12.987 4\n",
            "    13.506 5\n",
            "                 13.954 4\n",
            "                 14.318 3\n",
            "    14.503 4\n",
            "                 14.720 3\n",
            "                 15.478 2\n",
            "    15.607 3\n",
            "    16.207 4\n",
            "    17.226 5\n",
            "    17.539 6\n",
            "    17.961 7\n",
            "    18.654 8\n",
            "                 19.386 7\n",
            "    19.681 8\n"
          ]
        },
        {
          "output_type": "display_data",
          "data": {
            "text/plain": [
              "<Figure size 432x288 with 1 Axes>"
            ],
            "image/png": "[encoded data removed]"
          },
          "metadata": {
            "needs_background": "light"
          }
        }
      ],
      "source": [
        "\"\"\"\n",
        "Created on Mon Mar 19 20:57:14 2022\n",
        "\n",
        "@author: Osval\n",
        "\"\"\"\n",
        "\n",
        "#simulación de eventos discretos \n",
        "\n",
        "#SIMULAR UNA LINEA DE ESPERA CON UN SERVIDOR \n",
        "\n",
        "#con parametros:\n",
        "    #Los clientes llegan con siguiendo un proceso de Poisson\n",
        "    #Los tiempos de antención en el sevidor siguen una distribución Exponencial\n",
        "from random import random \n",
        "from math import log\n",
        "import matplotlib.pyplot as plt\n",
        "T=20 #tiempo de simulación\n",
        "l_l=1 #parametro lambda, llega un usario por minuto\n",
        "l_s=1.3 #clientes por minuto que puede atender el servidor\n",
        "t=0 #tiempo de reloj inicial\n",
        "infi=100000000\n",
        "ts=infi #tiempo de ocurrencia de la proxima salida\n",
        "tl=0    #tiempo de ocurrencia de la proxima llegada\n",
        "l=0\n",
        "lx=[]\n",
        "ly=[]\n",
        "while min(tl,ts)<T:\n",
        "    ta=t\n",
        "    t=min(tl,ts)\n",
        "    lx.append(ta)\n",
        "    ly.append(l)\n",
        "    lx.append(t)\n",
        "    ly.append(l)\n",
        "    if t==tl: #es una llegada\n",
        "        l=l+1\n",
        "        print(\"%10.3f\"%tl,l)\n",
        "        tl=t-(1/l_l)*log(random())\n",
        "        if l==1:\n",
        "            ts=t-(1/l_s)*log(random()) #generando una exponencial (metodo de la inversa)\n",
        "    else:     #es una salida\n",
        "        l=l-1\n",
        "        print(\"            \",\"%10.3f\"%ts,l)\n",
        "        if l==0:\n",
        "            ts=infi\n",
        "        else:\n",
        "            ts=t-(1./l_s)*log(random())\n",
        "plt.plot(lx,ly)\n",
        "plt.show()\n",
        "#Los eventos a la izquierda son llegadas y a la derecha son salidas \n"
      ]
    }
  ]
}