{
  "nbformat": 4,
  "nbformat_minor": 0,
  "metadata": {
    "colab": {
      "name": "T_09.ipynb",
      "provenance": [],
      "collapsed_sections": []
    },
    "kernelspec": {
      "name": "python3",
      "display_name": "Python 3"
    },
    "language_info": {
      "name": "python"
    }
  },
  "cells": [
    {
      "cell_type": "markdown",
      "source": [
        "# Instrucciones\n",
        "Elabore esta tarea en una notebook independiente, registrando sus resultados o las salidas de\n",
        "los programas. En todos los casos en que sea posible, resuelva los problemas mediante\n",
        "simulación y después verifique los resultados con las fórmulas correspondientes."
      ],
      "metadata": {
        "id": "vjZC83QLo76H"
      }
    },
    {
      "cell_type": "markdown",
      "source": [
        "# **1. En la biblioteca**\n",
        "**Un encargado de la biblioteca es el único en el mostrador durante todo su turno de trabajo.\n",
        "Las llegadas al mostrador siguen una distribución de Poisson con una media de 8 por hora.\n",
        "Cada usuario de la biblioteca es atendido de uno en uno, y el tiempo de servicio sigue una\n",
        "distribución exponencial con una media de 5 minutos.**\n",
        "\n",
        " * a) ¿Cuál es la probabilidad de que se forme cola?\n",
        " * b) ¿Cuál es la longitud media de la cola?\n",
        " * c) ¿Cuál es el tiempo medio que un cliente pasa en la biblioteca hasta que le han\n",
        "atendido?\n",
        " * d) ¿Cuál es el tiempo medio que un cliente pasa en la cola esperando a que le atiendan?\n",
        " * e) El encargado de la biblioteca pasa su tiempo en que no hay clientes clasificando artículos\n",
        "de revistas. Si puede clasificar 22 fichas por hora como media cuando trabaja continuamente,\n",
        "¿cuántas fichas puede ordenar durante su trabajo?"
      ],
      "metadata": {
        "id": "XElOV69VpAKn"
      }
    },
    {
      "cell_type": "code",
      "source": [
        "\"\"\"\n",
        "Created on Mon Apr 07 10:57:14 2022\n",
        "\n",
        "@author: Osval\n",
        "\"\"\"\n",
        "\n",
        "#simulación de eventos discretos \n",
        "\n",
        "#SIMULAR UNA LINEA DE ESPERA CON UN SERVIDOR \n",
        "\n",
        "#con parametros:\n",
        "    #Los clientes llegan con siguiendo un proceso de Poisson\n",
        "    #Los tiempos de antención en el sevidor siguen una distribución Exponencial\n",
        "from random import random \n",
        "from math import log\n",
        "import matplotlib.pyplot as plt\n",
        "T=720 #tiempo de simulación 12 hrs\n",
        "l_l=8/60 #parametro lambda, llega un usario por hora\n",
        "l_s=0.05 #clientes por hora que puede atender el servidor\n",
        "t=0 #tiempo de reloj inicial\n",
        "infi=100000000\n",
        "ts=infi #tiempo de ocurrencia de la proxima salida\n",
        "tl=0    #tiempo de ocurrencia de la proxima llegada\n",
        "l=0\n",
        "lx=[]\n",
        "ly=[]\n",
        "lp=[]\n",
        "lp1=[]\n",
        "lp2=[]\n",
        "lc=[]\n",
        "while min(tl,ts)<T:\n",
        "    ta=t\n",
        "    t=min(tl,ts)\n",
        "    lx.append(ta)\n",
        "    ly.append(l)\n",
        "    lx.append(t)\n",
        "    ly.append(l)\n",
        "    if t==tl: #es una llegada\n",
        "        l=l+1 #si es una llegada iteramos el número de personas en el sistema\n",
        "        print(\"%10.3f\"%tl,l) #imprimimos el tiempo actual y el numero de personas en el sistema\n",
        "        tl=t-(1/l_l)*log(random()) #generamos el proximo tiemp de llegada por el metodo de la inversa\n",
        "        if l==1:\n",
        "          ts=t-(1/l_s)*log(random()) #generando una exponencial (metodo de la inversa)\n",
        "          lp1.append(1)\n",
        "        elif l==0:   #generamos este elif para ir contando el total de eventos y sacar asi la probabilidad\n",
        "          lp2.append(1)\n",
        "        else:       #generamos este else para ir guardando a las personas en la fila\n",
        "          lp.append(1)\n",
        "          lc.append(l)\n",
        "    else:     #es una salida\n",
        "        l=l-1\n",
        "        print(\"            \",\"%10.3f\"%ts,l)\n",
        "        if l==0:\n",
        "            ts=infi\n",
        "            lp2.append(1)\n",
        "        else:\n",
        "            ts=t-(1./l_s)*log(random())\n",
        "            if l==1:\n",
        "              lp1.append(1)\n",
        "            else:\n",
        "              lp.append(1)\n",
        "              lc.append(l)   \n",
        "plt.plot(lx,ly)\n",
        "plt.show()\n",
        "lpt=len(lp1)+len(lp)+len(lp2)\n",
        "print(\"La probabilidad de que se forme una cola es : \",sum(lp)/lpt)\n",
        "print(\"Esta es la lista de las peronas en fila \")\n",
        "print(lc)\n",
        "pr=sum(lc)/len(lc)\n",
        "print(\"La longitud media de la cola es: \",pr)\n",
        "#Los eventos a la izquierda son llegadas y a la derecha son salidas"
      ],
      "metadata": {
        "colab": {
          "base_uri": "https://localhost:8080/",
          "height": 1000
        },
        "id": "07V87hjTwFKp",
        "outputId": "2330ccb3-b1d8-4378-8406-4a7d323df16c"
      },
      "execution_count": null,
      "outputs": [
        {
          "output_type": "stream",
          "name": "stdout",
          "text": [
            "     0.000 1\n",
            "    12.897 2\n",
            "    21.430 3\n",
            "    26.689 4\n",
            "    27.995 5\n",
            "                 29.159 4\n",
            "    30.764 5\n",
            "    43.278 6\n",
            "    43.437 7\n",
            "    55.297 8\n",
            "    61.191 9\n",
            "    63.436 10\n",
            "    69.970 11\n",
            "                 72.321 10\n",
            "    92.222 11\n",
            "                 92.376 10\n",
            "   110.025 11\n",
            "                116.952 10\n",
            "                119.000 9\n",
            "   120.392 10\n",
            "   133.469 11\n",
            "   134.597 12\n",
            "                137.400 11\n",
            "   152.974 12\n",
            "   174.400 13\n",
            "   182.364 14\n",
            "   191.583 15\n",
            "   208.236 16\n",
            "   217.546 17\n",
            "                220.157 16\n",
            "   228.356 17\n",
            "   228.552 18\n",
            "   236.458 19\n",
            "   237.244 20\n",
            "   241.822 21\n",
            "                243.930 20\n",
            "   256.265 21\n",
            "   264.189 22\n",
            "   268.307 23\n",
            "   278.947 24\n",
            "                280.740 23\n",
            "   286.424 24\n",
            "   287.840 25\n",
            "                297.531 24\n",
            "   298.024 25\n",
            "                298.228 24\n",
            "   299.378 25\n",
            "   301.863 26\n",
            "                304.488 25\n",
            "   305.456 26\n",
            "   308.627 27\n",
            "   318.241 28\n",
            "   318.715 29\n",
            "   325.885 30\n",
            "                331.300 29\n",
            "                339.262 28\n",
            "   347.859 29\n",
            "   355.691 30\n",
            "   360.518 31\n",
            "   365.585 32\n",
            "   371.484 33\n",
            "   375.641 34\n",
            "   377.274 35\n",
            "   389.098 36\n",
            "                389.312 35\n",
            "   392.147 36\n",
            "   410.126 37\n",
            "   410.912 38\n",
            "                413.777 37\n",
            "   421.492 38\n",
            "   421.919 39\n",
            "                423.354 38\n",
            "   425.117 39\n",
            "   425.216 40\n",
            "                425.291 39\n",
            "                428.416 38\n",
            "   428.798 39\n",
            "   428.874 40\n",
            "   429.587 41\n",
            "   429.996 42\n",
            "                440.889 41\n",
            "   441.556 42\n",
            "   441.744 43\n",
            "   442.320 44\n",
            "                446.017 43\n",
            "   452.000 44\n",
            "   452.039 45\n",
            "   455.841 46\n",
            "   462.556 47\n",
            "   468.671 48\n",
            "   469.100 49\n",
            "                469.831 48\n",
            "   470.479 49\n",
            "   471.649 50\n",
            "   474.384 51\n",
            "   475.540 52\n",
            "                478.860 51\n",
            "   481.002 52\n",
            "   485.593 53\n",
            "   487.066 54\n",
            "   487.327 55\n",
            "   498.129 56\n",
            "   498.176 57\n",
            "   508.681 58\n",
            "                513.319 57\n",
            "   517.061 58\n",
            "   521.309 59\n",
            "   552.715 60\n",
            "   555.190 61\n",
            "   559.017 62\n",
            "   561.700 63\n",
            "   573.353 64\n",
            "                581.406 63\n",
            "   584.228 64\n",
            "                596.446 63\n",
            "                607.448 62\n",
            "   608.483 63\n",
            "   610.478 64\n",
            "   614.444 65\n",
            "   616.496 66\n",
            "   622.313 67\n",
            "                623.397 66\n",
            "   639.345 67\n",
            "   652.450 68\n",
            "                662.230 67\n",
            "   666.541 68\n",
            "   675.851 69\n",
            "   680.084 70\n",
            "   693.828 71\n",
            "                702.758 70\n",
            "   718.801 71\n"
          ]
        },
        {
          "output_type": "display_data",
          "data": {
            "text/plain": [
              "<Figure size 432x288 with 1 Axes>"
            ],
            "image/png": "[encoded data removed]"
          },
          "metadata": {
            "needs_background": "light"
          }
        },
        {
          "output_type": "stream",
          "name": "stdout",
          "text": [
            "La probabilidad de que se forme una cola es :  0.9923664122137404\n",
            "Esta es la lista de las peronas en fila \n",
            "[2, 3, 4, 5, 4, 5, 6, 7, 8, 9, 10, 11, 10, 11, 10, 11, 10, 9, 10, 11, 12, 11, 12, 13, 14, 15, 16, 17, 16, 17, 18, 19, 20, 21, 20, 21, 22, 23, 24, 23, 24, 25, 24, 25, 24, 25, 26, 25, 26, 27, 28, 29, 30, 29, 28, 29, 30, 31, 32, 33, 34, 35, 36, 35, 36, 37, 38, 37, 38, 39, 38, 39, 40, 39, 38, 39, 40, 41, 42, 41, 42, 43, 44, 43, 44, 45, 46, 47, 48, 49, 48, 49, 50, 51, 52, 51, 52, 53, 54, 55, 56, 57, 58, 57, 58, 59, 60, 61, 62, 63, 64, 63, 64, 63, 62, 63, 64, 65, 66, 67, 66, 67, 68, 67, 68, 69, 70, 71, 70, 71]\n",
            "La longitud media de la cola es:  36.207692307692305\n"
          ]
        }
      ]
    },
    {
      "cell_type": "code",
      "source": [
        ""
      ],
      "metadata": {
        "id": "jWrxpu4X1kHT"
      },
      "execution_count": null,
      "outputs": []
    },
    {
      "cell_type": "markdown",
      "source": [
        "# **2. Lavado de autos**\n",
        "**Un pequeño autoservicio de lavado que solo tienen capacidad para atender de uno en uno a\n",
        "los autos que llegan, tiene un aparcamiento para 10 coches, incluyendo el que está siendo\n",
        "lavado. La empresa ha estimado que los coches llegan siguiendo una distribución de Poisson\n",
        "con una media de 20 coches/hora, el tiempo de servicio sigue una distribución exponencial**\n",
        "de 12 minutos. La empresa abre durante 10 horas al día.\n",
        "\n",
        "¿Cuál es la media de coches perdidos cada día debido a las limitaciones de espacio?"
      ],
      "metadata": {
        "id": "EKEl7wymqOeN"
      }
    },
    {
      "cell_type": "code",
      "source": [
        "\"\"\"\n",
        "Created on Mon Apr 07 12:57:14 2022\n",
        "\n",
        "@author: Osval\n",
        "\"\"\"\n",
        "\n",
        "#simulación de eventos discretos \n",
        "\n",
        "#SIMULAR UNA LINEA DE ESPERA CON UN SERVIDOR \n",
        "\n",
        "#con parametros:\n",
        "    #Los clientes llegan con siguiendo un proceso de Poisson\n",
        "    #Los tiempos de antención en el sevidor siguen una distribución Exponencial\n",
        "from random import random \n",
        "from math import log\n",
        "import matplotlib.pyplot as plt\n",
        "T=600 #tiempo de simulación\n",
        "l_l=20/60 #parametro lambda, llega un carro por minuto\n",
        "l_s=0.12 #clientes por minuto que puede atender el servidor\n",
        "t=0 #tiempo de reloj inicial\n",
        "infi=100000000\n",
        "ts=infi #tiempo de ocurrencia de la proxima salida\n",
        "tl=0    #tiempo de ocurrencia de la proxima llegada\n",
        "l=0\n",
        "ly=[]\n",
        "\n",
        "while min(tl,ts)<T:\n",
        "    ta=t\n",
        "    t=min(tl,ts)\n",
        "    ly.append(l)\n",
        "    if t==tl: #es una llegada\n",
        "        l=l+1\n",
        "        #print(\"%10.3f\"%tl,l)\n",
        "        tl=t-(1/l_l)*log(random())\n",
        "        if l==1:\n",
        "            ts=t-(1/l_s)*log(random()) #generando una exponencial (metodo de la inversa)\n",
        "    else:     #es una salida\n",
        "        l=l-1\n",
        "        #print(\"            \",\"%10.3f\"%ts,l)\n",
        "        if l==0:\n",
        "            ts=infi\n",
        "        else:\n",
        "            ts=t-(1./l_s)*log(random())\n",
        "          \n",
        "   \n",
        "q=len(ly)-1\n",
        "q1=ly[q]-10\n",
        "print(\"Carros no atendidos en un dia: \",q1)"
      ],
      "metadata": {
        "colab": {
          "base_uri": "https://localhost:8080/"
        },
        "id": "rOQz0dQ_BNOt",
        "outputId": "500bac6c-01ae-48cb-8bfa-4e57acf336a7"
      },
      "execution_count": null,
      "outputs": [
        {
          "output_type": "stream",
          "name": "stdout",
          "text": [
            "Carros no atendidos en un dia:  118\n"
          ]
        }
      ]
    },
    {
      "cell_type": "markdown",
      "source": [
        "Ahora creamos una función para poder iterarlo n número de veces\\\n",
        "En este caso van a ser 50 veces\n"
      ],
      "metadata": {
        "id": "sg2Wkl3WPAGc"
      }
    },
    {
      "cell_type": "code",
      "source": [
        "lt=[]\n",
        "for i in range(50):\n",
        "  T=600 #tiempo de simulación\n",
        "  l_l=20/60 #parametro lambda, llega un carro por minuto\n",
        "  l_s=0.12 #clientes por minuto que puede atender el servidor\n",
        "  t=0 #tiempo de reloj inicial\n",
        "  infi=100000000\n",
        "  ts=infi #tiempo de ocurrencia de la proxima salida\n",
        "  tl=0    #tiempo de ocurrencia de la proxima llegada\n",
        "  l=0\n",
        "  ly=[]\n",
        "\n",
        "  while min(tl,ts)<T:\n",
        "      ta=t\n",
        "      t=min(tl,ts)\n",
        "      ly.append(l)\n",
        "      if t==tl: #es una llegada\n",
        "          l=l+1\n",
        "          #print(\"%10.3f\"%tl,l)\n",
        "          tl=t-(1/l_l)*log(random())\n",
        "          if l==1:\n",
        "              ts=t-(1/l_s)*log(random()) #generando una exponencial (metodo de la inversa)\n",
        "      else:     #es una salida\n",
        "          l=l-1\n",
        "          #print(\"            \",\"%10.3f\"%ts,l)\n",
        "          if l==0:\n",
        "              ts=infi\n",
        "          else:\n",
        "             ts=t-(1./l_s)*log(random()) \n",
        "  q=len(ly)-1\n",
        "  q1=ly[q]-10\n",
        "  lt.append(q1)\n",
        "print(lt)\n",
        "tol= sum(lt)/len(lt)\n",
        "print(\"La media de coches perdidos cada día debido a las limitaciones de espacio es: \",tol)\n",
        "\n"
      ],
      "metadata": {
        "colab": {
          "base_uri": "https://localhost:8080/"
        },
        "id": "sLO0Xv56PK6_",
        "outputId": "cc863da4-f904-4a82-9051-2361ebb545b4"
      },
      "execution_count": null,
      "outputs": [
        {
          "output_type": "stream",
          "name": "stdout",
          "text": [
            "[105, 98, 105, 109, 145, 143, 144, 152, 123, 118, 126, 122, 90, 92, 137, 108, 133, 148, 118, 116, 121, 107, 133, 149, 128, 111, 141, 119, 123, 130, 124, 118, 121, 110, 97, 131, 109, 97, 121, 141, 106, 110, 106, 126, 86, 137, 124, 94, 84, 126]\n",
            "La media de coches perdidos cada día debido a las limitaciones de espacio es:  119.24\n"
          ]
        }
      ]
    },
    {
      "cell_type": "markdown",
      "source": [
        "# **3. John Macko**\n",
        "**John Macko es alumno en la U de Ozark. Hace trabajos extraños para aumentar sus ingresos.\n",
        "Las peticiones de trabajo llegan en promedio cada 5 días, pero el tiempo entre ellas es\n",
        "exponencial. El tiempo para terminar un trabajo también es exponencial, con una media de 4\n",
        "días.**\n",
        "\n",
        " * a) ¿Cuál es la probabilidad de que le falte trabajo a John?\n",
        " * b) Si John cobra unos 50 por cada trabajo, ¿cuál es su ingreso mensual promedio?\n",
        " * c) Si al final del semestre John decide subcontratar los trabajos pendientes a $40 cada uno,\n",
        "¿cuánto debe esperar pagar en promedio?"
      ],
      "metadata": {
        "id": "EZecyeKHqVf3"
      }
    },
    {
      "cell_type": "code",
      "execution_count": null,
      "metadata": {
        "id": "4fMCzzWqo2j4"
      },
      "outputs": [],
      "source": [
        ""
      ]
    }
  ]
}