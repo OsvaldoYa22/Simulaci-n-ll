{
  "nbformat": 4,
  "nbformat_minor": 0,
  "metadata": {
    "colab": {
      "name": "Tarea07.ipynb",
      "provenance": [],
      "collapsed_sections": []
    },
    "kernelspec": {
      "name": "python3",
      "display_name": "Python 3"
    },
    "language_info": {
      "name": "python"
    }
  },
  "cells": [
    {
      "cell_type": "code",
      "execution_count": null,
      "metadata": {
        "id": "jAG6QDt2HYGr"
      },
      "outputs": [],
      "source": [
        ""
      ]
    },
    {
      "cell_type": "markdown",
      "source": [
        "|  Cliente i:                       |  1 | 2 | 3 |4 |5 |6 |7 |8 |9 |10 | 11 | 12 |\n",
        "|-----------------------------------|----|---|---|--|--|--|--|--|--|---|----|----|\n",
        "|Tiempo de llegada entre i + 1 e i: |2   | 1 | 3 |1 |1 | 4|2 |5 |1 | 2 | 2  |    |\n",
        "|Tiempo de servicio al cliente:     | 1  | 3 | 6 |2 |1 | 1|4 | 2|5 |1  | 1  | 3  |"
      ],
      "metadata": {
        "id": "jsBxuI-hHi4n"
      }
    },
    {
      "cell_type": "markdown",
      "source": [
        "| t | Entrada/salida i| Ini serv i | Ter serv i |T en cola |T en sist | Tamaño de cola t |Clientes en el sistema hasta t|\n",
        "        |---|-----------------|------------|------------|----------|----------|------------------|------------------------------|\n",
        "        |  0   |  1-E  |  0   |  1   |  0  |  1  |  0  |  1  |\n",
        "        |  1   |  1-S  |  -   |  -   |  -  |  -  |  0  |  0  |\n",
        "        |  2   |  2-E  |  2   |  5   |  0  |  3  |  0  |  1  |\n",
        "        |  3   |  3-E  |  5   |  11  |  2  |  6  |  1  |  2  |\n",
        "        |  5   |  2-S  |  -   |  -   |  -  |  -  |  0  |  1  |\n",
        "        |  6   |  4-E  |  11  |  13  |  5  |  7  |  1  |  2  |\n",
        "        |  7   |  5-E  |  13  |  14  |  6  |  7  |  2  |  3  |\n",
        "        |  8   |  6-E  |  14  |  15  |  6  |  7  |  3  |  4  |\n",
        "        |  11  |  3-S  |  -   |  -   |  -  |  -  |  2  |  3  |\n",
        "        |  12  |  7-E  |  15  |  19  |  3  |  7  |  3  |  4  |\n",
        "        |  13  |  4-S  |  -   |  -   |  -  |  -  |  2  |  3  |\n",
        "        |  14  |  5-S  |  -   |  -   |  -  |  -  |  1  |  2  |\n",
        "        |  14  |  8-E  |  19  |  21  |  5  |  7  |  2  |  3  |\n",
        "        |  15  |  6-S  |  -   |  -   |  -  |  -  |  1  |  2  |\n",
        "        |  19  |  7-S  |  -   |  -   |  -  |  -  |  0  |  1  |\n",
        "        |  19  |  9-E  |  21  |  26  |  3  |  7  |  1  |  2  |\n",
        "        |  20  |  10-E |  26  |  27  |  6  |  7  |  2  |  3  |\n",
        "        |  21  |  8-S  |  -   |  -   |  -  |  -  |  1  |  2  |\n",
        "        |  22  |  11-E |  27  |  28  |  5  |  6  |  2  |  3  |\n",
        "        |  24  |  12-E |  28  |  31  |  4  |  7  |  3  |  4  |\n",
        "        |  26  |  9-S  |  -   |  -   |  -  |  -  |  2  |  3  |\n",
        "        |  27  |  10-S |  -   |  -   |  -  |  -  |  1  |  2  |\n",
        "        |  28  |  11-S |  -   |  -   |  -  |  -  |  0  |  1  |\n",
        "        |  31  |  12-S |  -   |  -   |  -  |  -  |  0  |  0  |"
      ],
      "metadata": {
        "id": "PeIk65jMHzIv"
      }
    },
    {
      "cell_type": "markdown",
      "source": [
        " * $ \\lambda=2 $\n",
        " * $\\mu =2.58$\n",
        " * $L=6$\n",
        " * $L_p=3.75$\n"
      ],
      "metadata": {
        "id": "_--TsW9qInRp"
      }
    }
  ]
}